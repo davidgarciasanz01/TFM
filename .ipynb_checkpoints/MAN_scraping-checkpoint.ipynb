{
 "cells": [
  {
   "cell_type": "code",
   "execution_count": 1,
   "metadata": {
    "colab": {
     "base_uri": "https://localhost:8080/"
    },
    "id": "KwA1ICQSJMfY",
    "outputId": "235a34a4-758e-4624-e326-cde852e15912"
   },
   "outputs": [
    {
     "name": "stderr",
     "output_type": "stream",
     "text": [
      "\"apt-get\" no se reconoce como un comando interno o externo,\n",
      "programa o archivo por lotes ejecutable.\n",
      "\"apt-get\" no se reconoce como un comando interno o externo,\n",
      "programa o archivo por lotes ejecutable.\n"
     ]
    }
   ],
   "source": [
    "!apt-get update\n",
    "!apt-get install -y chromium-chromedriver"
   ]
  },
  {
   "cell_type": "code",
   "execution_count": 1,
   "metadata": {
    "colab": {
     "base_uri": "https://localhost:8080/"
    },
    "id": "YHNbzmqnuMH0",
    "outputId": "3ecff2ff-4f1a-4e71-a041-ab34dbb8f74c"
   },
   "outputs": [
    {
     "name": "stdout",
     "output_type": "stream",
     "text": [
      "Collecting BeautifulSoup\n",
      "  Using cached BeautifulSoup-3.2.2.tar.gz (32 kB)\n",
      "  Preparing metadata (setup.py): started\n",
      "  Preparing metadata (setup.py): finished with status 'error'\n"
     ]
    },
    {
     "name": "stderr",
     "output_type": "stream",
     "text": [
      "  error: subprocess-exited-with-error\n",
      "  \n",
      "  python setup.py egg_info did not run successfully.\n",
      "  exit code: 1\n",
      "  \n",
      "  [7 lines of output]\n",
      "  Traceback (most recent call last):\n",
      "    File \"<string>\", line 2, in <module>\n",
      "    File \"<pip-setuptools-caller>\", line 34, in <module>\n",
      "    File \"C:\\Users\\david\\AppData\\Local\\Temp\\pip-install-8t7z0bv_\\beautifulsoup_4c62c3a419fc4bfbae061c53b14fb6f2\\setup.py\", line 3\n",
      "      \"You're trying to run a very old release of Beautiful Soup under Python 3. This will not work.\"<>\"Please use Beautiful Soup 4, available through the pip package 'beautifulsoup4'.\"\n",
      "                                                                                                     ^^\n",
      "  SyntaxError: invalid syntax\n",
      "  [end of output]\n",
      "  \n",
      "  note: This error originates from a subprocess, and is likely not a problem with pip.\n",
      "error: metadata-generation-failed\n",
      "\n",
      "Encountered error while generating package metadata.\n",
      "\n",
      "See above for output.\n",
      "\n",
      "note: This is an issue with the package mentioned above, not pip.\n",
      "hint: See above for details.\n"
     ]
    },
    {
     "name": "stdout",
     "output_type": "stream",
     "text": [
      "Requirement already satisfied: requests in c:\\users\\david\\appdata\\local\\programs\\python\\python312\\lib\\site-packages (2.31.0)\n",
      "Requirement already satisfied: charset-normalizer<4,>=2 in c:\\users\\david\\appdata\\local\\programs\\python\\python312\\lib\\site-packages (from requests) (3.3.2)\n",
      "Requirement already satisfied: idna<4,>=2.5 in c:\\users\\david\\appdata\\local\\programs\\python\\python312\\lib\\site-packages (from requests) (3.6)\n",
      "Requirement already satisfied: urllib3<3,>=1.21.1 in c:\\users\\david\\appdata\\local\\programs\\python\\python312\\lib\\site-packages (from requests) (2.2.1)\n",
      "Requirement already satisfied: certifi>=2017.4.17 in c:\\users\\david\\appdata\\local\\programs\\python\\python312\\lib\\site-packages (from requests) (2024.2.2)\n"
     ]
    }
   ],
   "source": [
    "!pip3 install BeautifulSoup\n",
    "!pip3 install requests"
   ]
  },
  {
   "cell_type": "code",
   "execution_count": 2,
   "metadata": {
    "colab": {
     "base_uri": "https://localhost:8080/"
    },
    "id": "33CHmWR8-5zA",
    "outputId": "d6d9e693-d350-4aae-e45c-33093e6c9bb2"
   },
   "outputs": [
    {
     "name": "stdout",
     "output_type": "stream",
     "text": [
      "Requirement already satisfied: selenium in c:\\users\\david\\appdata\\local\\programs\\python\\python312\\lib\\site-packages (4.18.1)\n",
      "Requirement already satisfied: urllib3<3,>=1.26 in c:\\users\\david\\appdata\\local\\programs\\python\\python312\\lib\\site-packages (from urllib3[socks]<3,>=1.26->selenium) (2.2.1)\n",
      "Requirement already satisfied: trio~=0.17 in c:\\users\\david\\appdata\\local\\programs\\python\\python312\\lib\\site-packages (from selenium) (0.24.0)\n",
      "Requirement already satisfied: trio-websocket~=0.9 in c:\\users\\david\\appdata\\local\\programs\\python\\python312\\lib\\site-packages (from selenium) (0.11.1)\n",
      "Requirement already satisfied: certifi>=2021.10.8 in c:\\users\\david\\appdata\\local\\programs\\python\\python312\\lib\\site-packages (from selenium) (2024.2.2)\n",
      "Requirement already satisfied: typing_extensions>=4.9.0 in c:\\users\\david\\appdata\\local\\programs\\python\\python312\\lib\\site-packages (from selenium) (4.9.0)\n",
      "Requirement already satisfied: attrs>=20.1.0 in c:\\users\\david\\appdata\\local\\programs\\python\\python312\\lib\\site-packages (from trio~=0.17->selenium) (23.2.0)\n",
      "Requirement already satisfied: sortedcontainers in c:\\users\\david\\appdata\\local\\programs\\python\\python312\\lib\\site-packages (from trio~=0.17->selenium) (2.4.0)\n",
      "Requirement already satisfied: idna in c:\\users\\david\\appdata\\local\\programs\\python\\python312\\lib\\site-packages (from trio~=0.17->selenium) (3.6)\n",
      "Requirement already satisfied: outcome in c:\\users\\david\\appdata\\local\\programs\\python\\python312\\lib\\site-packages (from trio~=0.17->selenium) (1.3.0.post0)\n",
      "Requirement already satisfied: sniffio>=1.3.0 in c:\\users\\david\\appdata\\local\\programs\\python\\python312\\lib\\site-packages (from trio~=0.17->selenium) (1.3.0)\n",
      "Requirement already satisfied: cffi>=1.14 in c:\\users\\david\\appdata\\local\\programs\\python\\python312\\lib\\site-packages (from trio~=0.17->selenium) (1.16.0)\n",
      "Requirement already satisfied: wsproto>=0.14 in c:\\users\\david\\appdata\\local\\programs\\python\\python312\\lib\\site-packages (from trio-websocket~=0.9->selenium) (1.2.0)\n",
      "Requirement already satisfied: pysocks!=1.5.7,<2.0,>=1.5.6 in c:\\users\\david\\appdata\\local\\programs\\python\\python312\\lib\\site-packages (from urllib3[socks]<3,>=1.26->selenium) (1.7.1)\n",
      "Requirement already satisfied: pycparser in c:\\users\\david\\appdata\\local\\programs\\python\\python312\\lib\\site-packages (from cffi>=1.14->trio~=0.17->selenium) (2.21)\n",
      "Requirement already satisfied: h11<1,>=0.9.0 in c:\\users\\david\\appdata\\local\\programs\\python\\python312\\lib\\site-packages (from wsproto>=0.14->trio-websocket~=0.9->selenium) (0.14.0)\n"
     ]
    }
   ],
   "source": [
    "!pip3 install selenium"
   ]
  },
  {
   "cell_type": "code",
   "execution_count": 3,
   "metadata": {},
   "outputs": [
    {
     "ename": "SyntaxError",
     "evalue": "invalid syntax (<ipython-input-3-a6eb55a2cf5c>, line 1)",
     "output_type": "error",
     "traceback": [
      "\u001b[1;36m  File \u001b[1;32m\"<ipython-input-3-a6eb55a2cf5c>\"\u001b[1;36m, line \u001b[1;32m1\u001b[0m\n\u001b[1;33m    pip install pandas\u001b[0m\n\u001b[1;37m              ^\u001b[0m\n\u001b[1;31mSyntaxError\u001b[0m\u001b[1;31m:\u001b[0m invalid syntax\n"
     ]
    }
   ],
   "source": [
    "pip install pandas"
   ]
  },
  {
   "cell_type": "code",
   "execution_count": 5,
   "metadata": {
    "id": "7iWBXenDuRy9"
   },
   "outputs": [],
   "source": [
    "from bs4 import BeautifulSoup\n",
    "import pandas as pd\n",
    "import requests\n",
    "import re"
   ]
  },
  {
   "cell_type": "code",
   "execution_count": 7,
   "metadata": {
    "colab": {
     "base_uri": "https://localhost:8080/"
    },
    "id": "6YZKaSB8JlAj",
    "outputId": "97657544-5e7c-4b20-ab43-cb81a0b981b8"
   },
   "outputs": [
    {
     "name": "stderr",
     "output_type": "stream",
     "text": [
      "\"which\" no se reconoce como un comando interno o externo,\n",
      "programa o archivo por lotes ejecutable.\n"
     ]
    }
   ],
   "source": [
    "!which chromedriver"
   ]
  },
  {
   "cell_type": "code",
   "execution_count": 6,
   "metadata": {
    "id": "bPAP9OPmuVjS"
   },
   "outputs": [],
   "source": [
    "#url_test = 'https://www.museothyssen.org/coleccion/artistas/ghirlandaio-domenico/retrato-giovanna-degli-albizzi-tornabuoni'\n",
    "url_test ='https://www.museodelprado.es/coleccion/obras-de-arte?ecidoc:p55_has_current_location_exposed=expuesto@es'\n",
    "request = requests.get(url_test)\n",
    "html = request.text\n",
    "\n",
    "soup = BeautifulSoup(html, \"html.parser\")"
   ]
  },
  {
   "cell_type": "code",
   "execution_count": 14,
   "metadata": {
    "id": "YdNFlcV376Fm"
   },
   "outputs": [],
   "source": [
    "titulos=soup.find_all('p', class_='titulo')\n"
   ]
  },
  {
   "cell_type": "code",
   "execution_count": 11,
   "metadata": {
    "id": "FaAKYaSLu0aQ"
   },
   "outputs": [],
   "source": [
    "titulos = soup.find_all('p', class_='titulo')\n",
    "\n",
    "for titulo_element in titulos:\n",
    "    titulo = titulo_element.text.strip()\n"
   ]
  },
  {
   "cell_type": "code",
   "execution_count": 15,
   "metadata": {
    "id": "ekXV7xyKxvqe"
   },
   "outputs": [],
   "source": [
    "artwork_artists = soup.find_all('p', class_='autor')\n",
    "\n",
    "for artwork_artist in artwork_artists:\n",
    "    artwork_artist_name = artwork_artist.text.strip()\n"
   ]
  },
  {
   "cell_type": "code",
   "execution_count": 16,
   "metadata": {
    "id": "PsippRM_6JCb"
   },
   "outputs": [],
   "source": [
    "titulos = soup.find_all('p', class_='titulo')\n",
    "\n",
    "for titulo_element in titulos:\n",
    "    referencia = titulo_element.find('a')['href']\n"
   ]
  },
  {
   "cell_type": "code",
   "execution_count": 35,
   "metadata": {
    "colab": {
     "base_uri": "https://localhost:8080/",
     "height": 211
    },
    "id": "en9GuYaz-s1y",
    "outputId": "9363695d-f42a-474e-a5be-f31bea80e3cc"
   },
   "outputs": [],
   "source": [
    "from selenium.webdriver.common.by import By\n",
    "from selenium.webdriver.support.ui import WebDriverWait\n",
    "from selenium.webdriver.support import expected_conditions as EC\n",
    "from selenium.webdriver.common.keys import Keys\n",
    "from selenium import webdriver\n",
    "import time\n",
    "from bs4 import BeautifulSoup\n",
    "\n",
    "# Initialize the Chrome WebDriver\n",
    "driver = webdriver.Chrome()\n",
    "\n",
    "# Open the web page in the controlled browser\n",
    "driver.get(\"https://www.museodelprado.es/coleccion/obras-de-arte?ecidoc:p55_has_current_location_exposed=expuesto@es\")\n",
    "\n",
    "# Wait for the page to load completely\n",
    "wait = WebDriverWait(driver, 5)  # Increased the timeout to 8 seconds\n",
    "try:\n",
    "    wait.until(EC.presence_of_element_located((By.TAG_NAME, \"body\")))\n",
    "except:\n",
    "    print(\"Timeout occurred or window closed prematurely\")\n",
    "\n",
    "# Get the <body> element\n",
    "try:\n",
    "    body = driver.find_element(By.TAG_NAME, \"body\")\n",
    "    num_scrolls = 500  # Number of times to scroll down\n",
    "    for _ in range(num_scrolls):\n",
    "        body.send_keys(Keys.PAGE_DOWN)  # Simulate pressing the page down key\n",
    "        time.sleep(5)  # Increased sleep time to 5 seconds\n",
    "        # You might need to increase the sleep time further depending on the page load speed\n",
    "\n",
    "    # Get the HTML of the page after scrolling\n",
    "    html = driver.page_source\n",
    "\n",
    "    # Use BeautifulSoup to parse the HTML\n",
    "    soup = BeautifulSoup(html, 'html.parser')\n",
    "\n",
    "    # Find and extract the elements you need\n",
    "    titulos = soup.find_all('p', class_='titulo')\n",
    "    autores = soup.find_all('p', class_='autor')\n",
    "\n",
    "    # Process the elements as desired\n",
    "    referencias = []  # List to store references\n",
    "    referencias_autor = []  # List to store author references\n",
    "    for titulo_element in titulos:\n",
    "        referencia = titulo_element.find('a')['href']\n",
    "        referencias.append(referencia)  # Append the reference to the list\n",
    "        \n",
    "\n",
    "    for autor_element in autores:\n",
    "        referencia_autor = autor_element.find('a')['href']\n",
    "        referencias_autor.append(referencia_autor)  # Append the author reference to the list\n",
    "        \n",
    "\n",
    "except Exception as e:\n",
    "    print(\"An error occurred:\", e)\n",
    "\n",
    "# Close the controlled browser\n",
    "driver.quit()\n",
    "\n"
   ]
  },
  {
   "cell_type": "code",
   "execution_count": null,
   "metadata": {
    "colab": {
     "base_uri": "https://localhost:8080/"
    },
    "id": "1W72nNdsx7CA",
    "outputId": "74d3415a-e4b6-4a44-b3f5-2993bb7218b3"
   },
   "outputs": [
    {
     "name": "stdout",
     "output_type": "stream",
     "text": [
      "https://www.museodelprado.es/coleccion/obras-de-arte?cidoc:p14_carried_out_by@@@pm:author@@@ecidoc:p131_E82_p102_has_title=Anónimo@es\n"
     ]
    }
   ],
   "source": [
    "artwork_artist_ref = artwork_artist.find('a').get('href')\n",
    "print(artwork_artist_ref)"
   ]
  },
  {
   "cell_type": "code",
   "execution_count": 7,
   "metadata": {},
   "outputs": [
    {
     "ename": "NameError",
     "evalue": "name 'referencias' is not defined",
     "output_type": "error",
     "traceback": [
      "\u001b[1;31m---------------------------------------------------------------------------\u001b[0m",
      "\u001b[1;31mNameError\u001b[0m                                 Traceback (most recent call last)",
      "\u001b[1;32m<ipython-input-7-a0a1768090eb>\u001b[0m in \u001b[0;36m<module>\u001b[1;34m()\u001b[0m\n\u001b[1;32m----> 1\u001b[1;33m \u001b[0mlen\u001b[0m\u001b[1;33m(\u001b[0m\u001b[0mreferencias\u001b[0m\u001b[1;33m)\u001b[0m\u001b[1;33m\u001b[0m\u001b[0m\n\u001b[0m",
      "\u001b[1;31mNameError\u001b[0m: name 'referencias' is not defined"
     ]
    }
   ],
   "source": [
    "len(referencias)"
   ]
  },
  {
   "cell_type": "code",
   "execution_count": 37,
   "metadata": {},
   "outputs": [
    {
     "data": {
      "text/plain": [
       "3312"
      ]
     },
     "execution_count": 37,
     "metadata": {},
     "output_type": "execute_result"
    }
   ],
   "source": [
    "len(referencias_autor)"
   ]
  },
  {
   "cell_type": "code",
   "execution_count": 38,
   "metadata": {},
   "outputs": [
    {
     "name": "stdout",
     "output_type": "stream",
     "text": [
      "Datos guardados exitosamente en datos.json\n"
     ]
    }
   ],
   "source": [
    "import json\n",
    "\n",
    "# Guardar las listas en un diccionario\n",
    "datos = {\n",
    "    \"referencias\": referencias,\n",
    "    \"referencias_autor\": referencias_autor\n",
    "}\n",
    "\n",
    "# Especificar la ruta del archivo JSON\n",
    "archivo_json = \"datos.json\"\n",
    "\n",
    "# Escribir el diccionario en el archivo JSON\n",
    "with open(archivo_json, \"w\") as archivo:\n",
    "    json.dump(datos, archivo)\n",
    "\n",
    "print(\"Datos guardados exitosamente en\", archivo_json)"
   ]
  },
  {
   "cell_type": "code",
   "execution_count": 9,
   "metadata": {},
   "outputs": [],
   "source": [
    "\n",
    "import json\n",
    "archivo_json = \"datos.json\"\n",
    "\n",
    "# Cargar los datos desde el archivo JSON\n",
    "with open(archivo_json, \"r\") as archivo:\n",
    "    datos = json.load(archivo)\n",
    "\n",
    "# Obtener las listas desde el diccionario\n",
    "referencias = datos[\"referencias\"]\n",
    "referencias_autor = datos[\"referencias_autor\"]"
   ]
  },
  {
   "cell_type": "code",
   "execution_count": 10,
   "metadata": {},
   "outputs": [
    {
     "data": {
      "text/plain": [
       "3312"
      ]
     },
     "execution_count": 10,
     "metadata": {},
     "output_type": "execute_result"
    }
   ],
   "source": [
    "len(referencias_autor)"
   ]
  },
  {
   "cell_type": "code",
   "execution_count": 11,
   "metadata": {},
   "outputs": [
    {
     "data": {
      "text/plain": [
       "3312"
      ]
     },
     "execution_count": 11,
     "metadata": {},
     "output_type": "execute_result"
    }
   ],
   "source": [
    "len(referencias)"
   ]
  },
  {
   "cell_type": "code",
   "execution_count": null,
   "metadata": {
    "colab": {
     "base_uri": "https://localhost:8080/",
     "height": 36
    },
    "id": "zOxCu_Tx0KbV",
    "outputId": "57088e00-2196-4006-f005-88fb85a7905d"
   },
   "outputs": [
    {
     "data": {
      "application/vnd.google.colaboratory.intrinsic+json": {
       "type": "string"
      },
      "text/plain": [
       "'Sala 6'"
      ]
     },
     "execution_count": 122,
     "metadata": {},
     "output_type": "execute_result"
    }
   ],
   "source": [
    "artwork_location = soup.find_all('a')[27].text\n",
    "print(artwork_location.strip())"
   ]
  },
  {
   "cell_type": "code",
   "execution_count": 21,
   "metadata": {},
   "outputs": [],
   "source": [
    "def extraer_informacion(html):\n",
    "    from bs4 import BeautifulSoup\n",
    "\n",
    "    soup = BeautifulSoup(html, 'html.parser')\n",
    "\n",
    "    # Buscar el div con la clase \"wrapper sticky\"\n",
    "    div_wrapper_sticky = soup.find('div', class_='wrapper sticky')\n",
    "    \n",
    "    if div_wrapper_sticky:\n",
    "        # Buscar el section dentro del div_wrapper_sticky\n",
    "        section = div_wrapper_sticky.find('section')\n",
    "\n",
    "        if section:\n",
    "            # Buscar el elemento con la clase \"ficha-obra\" dentro de section\n",
    "            ficha_obra = section.find('div', class_='ficha-obra')\n",
    "\n",
    "            if ficha_obra:\n",
    "                # Buscar el div con la clase \"obra\" dentro de ficha_obra\n",
    "                div_obra = ficha_obra.find('div', class_='obra')\n",
    "\n",
    "                if div_obra:\n",
    "                    # Extraer información de class summary, details y subtitulo dentro de div_obra\n",
    "                    summary = div_obra.find('div', class_='summary').text.strip() if div_obra.find('div', class_='summary') else \"\"\n",
    "                    details = div_obra.find('div', class_='details').text.strip() if div_obra.find('div', class_='details') else \"\"\n",
    "                    subtitulo = div_obra.find('strong', class_='subtitulo').text.strip() if div_obra.find('strong', class_='subtitulo') else \"\"\n",
    "\n",
    "                    return summary, details, subtitulo\n",
    "\n",
    "    return None, None, None\n",
    "   "
   ]
  },
  {
   "cell_type": "code",
   "execution_count": 61,
   "metadata": {
    "colab": {
     "base_uri": "https://localhost:8080/"
    },
    "id": "sj2WJBTK34pc",
    "outputId": "4e3bcca0-a1e7-4f40-ae8a-0a716d6bbd14"
   },
   "outputs": [
    {
     "name": "stdout",
     "output_type": "stream",
     "text": [
      "\n",
      "Museo Nacional del Prado\n",
      "\n"
     ]
    }
   ],
   "source": [
    "artwork_date = soup.find_all('div')[29].text\n",
    "print(artwork_date)"
   ]
  },
  {
   "cell_type": "code",
   "execution_count": 26,
   "metadata": {},
   "outputs": [
    {
     "data": {
      "text/plain": [
       "u'https://www.museodelprado.es/coleccion/obras-de-arte?cidoc:p14_carried_out_by@@@pm:author@@@ecidoc:p131_E82_p102_has_title=Rubens, Pedro Pablo@es'"
      ]
     },
     "execution_count": 26,
     "metadata": {},
     "output_type": "execute_result"
    }
   ],
   "source": [
    "referencias_autor[1000]"
   ]
  },
  {
   "cell_type": "code",
   "execution_count": 23,
   "metadata": {},
   "outputs": [
    {
     "data": {
      "text/plain": [
       "(None, None, None)"
      ]
     },
     "execution_count": 23,
     "metadata": {},
     "output_type": "execute_result"
    }
   ],
   "source": [
    "extraer_informacion(referencias[0])"
   ]
  },
  {
   "cell_type": "code",
   "execution_count": 24,
   "metadata": {
    "colab": {
     "base_uri": "https://localhost:8080/",
     "height": 36
    },
    "id": "2IDTetmd0U7C",
    "outputId": "60b1b792-e7c9-40e0-f633-b3358ae6567a"
   },
   "outputs": [
    {
     "ename": "IndexError",
     "evalue": "list index out of range",
     "output_type": "error",
     "traceback": [
      "\u001b[1;31m---------------------------------------------------------------------------\u001b[0m",
      "\u001b[1;31mIndexError\u001b[0m                                Traceback (most recent call last)",
      "\u001b[1;32m<ipython-input-24-353576ee93e0>\u001b[0m in \u001b[0;36m<module>\u001b[1;34m()\u001b[0m\n\u001b[1;32m----> 1\u001b[1;33m \u001b[0msoup\u001b[0m\u001b[1;33m.\u001b[0m\u001b[0mfind_all\u001b[0m\u001b[1;33m(\u001b[0m\u001b[1;34m'div'\u001b[0m\u001b[1;33m)\u001b[0m\u001b[1;33m[\u001b[0m\u001b[1;36m175\u001b[0m\u001b[1;33m]\u001b[0m\u001b[1;33m.\u001b[0m\u001b[0mtext\u001b[0m\u001b[1;33m\u001b[0m\u001b[0m\n\u001b[0m",
      "\u001b[1;31mIndexError\u001b[0m: list index out of range"
     ]
    }
   ],
   "source": [
    "soup.find_all('div')[175].text"
   ]
  },
  {
   "cell_type": "code",
   "execution_count": 18,
   "metadata": {},
   "outputs": [
    {
     "name": "stdout",
     "output_type": "stream",
     "text": [
      "('T\\xc3\\xadtulo:', '')\n",
      "('Subt\\xc3\\xadtulo:', '')\n",
      "('Resumen:', '')\n",
      "('Detalle:', '')\n"
     ]
    }
   ],
   "source": [
    "from bs4 import BeautifulSoup\n",
    "\n",
    "# Tu HTML proporcionado\n",
    "html_content = referencias[0]\n",
    "\n",
    "# Crear un objeto BeautifulSoup\n",
    "soup = BeautifulSoup(html_content, \"html.parser\")\n",
    "\n",
    "# Extraer el título\n",
    "titulo_element = soup.find(\"h1\")\n",
    "titulo = titulo_element.text.strip() if titulo_element else \"\"\n",
    "\n",
    "# Extraer el subtítulo\n",
    "subtitulo_element = soup.find(\"strong\", class_=\"subtitulo\")\n",
    "subtitulo = subtitulo_element.text.strip() if subtitulo_element else \"\"\n",
    "\n",
    "# Extraer el resumen\n",
    "resumen_element = soup.find(\"div\", class_=\"summary\")\n",
    "resumen = resumen_element.text.strip() if resumen_element else \"\"\n",
    "\n",
    "# Extraer el detalle\n",
    "detalle_element = soup.find(\"div\", class_=\"details\")\n",
    "detalle = detalle_element.text.strip() if detalle_element else \"\"\n",
    "\n",
    "# Imprimir los resultados\n",
    "print(\"Título:\", titulo)\n",
    "print(\"Subtítulo:\", subtitulo)\n",
    "print(\"Resumen:\", resumen)\n",
    "print(\"Detalle:\", detalle)"
   ]
  },
  {
   "cell_type": "code",
   "execution_count": null,
   "metadata": {
    "colab": {
     "base_uri": "https://localhost:8080/"
    },
    "id": "qSUVgqZW9n-_",
    "outputId": "aab38a8d-7c2b-45a7-b590-90d23651d2dd"
   },
   "outputs": [
    {
     "name": "stdout",
     "output_type": "stream",
     "text": [
      "80 x 60,5 cm\n"
     ]
    }
   ],
   "source": [
    "artwork_canvas_size = soup.find_all('div')[30].find_all('div')[1].text\n",
    "print(artwork_canvas_size)"
   ]
  },
  {
   "cell_type": "code",
   "execution_count": null,
   "metadata": {
    "colab": {
     "base_uri": "https://localhost:8080/"
    },
    "id": "SKufAchz-NEu",
    "outputId": "49fe90b2-e855-4ee7-ad56-21cc59650a36"
   },
   "outputs": [
    {
     "name": "stdout",
     "output_type": "stream",
     "text": [
      "Óleo sobre tabla\n"
     ]
    }
   ],
   "source": [
    "artwork_canvas_type = soup.find_all('div')[30].find_all('div')[0].text.strip()\n",
    "pattern = r'([^\\d.]+)'\n",
    "coincidencia = re.search(pattern, artwork_canvas_type)\n",
    "artwork_canvas_type = coincidencia.group(1).strip()\n",
    "print(artwork_canvas_type)"
   ]
  },
  {
   "cell_type": "code",
   "execution_count": null,
   "metadata": {
    "id": "RItG-eiG_xeU"
   },
   "outputs": [],
   "source": [
    "def get_artwork_name(soup):\n",
    "  artwork_name = soup.find('h1')\n",
    "  artwork_name_title = artwork_name.text\n",
    "  return artwork_name_title.strip()\n",
    "\n",
    "def get_artwork_artist(soup):\n",
    "  artwork_artist = soup.find('h2')\n",
    "  artwork_artist_name = artwork_artist.text\n",
    "  return artwork_artist_name.strip()\n",
    "\n",
    "def get_artwork_artist_ref(soup):\n",
    "  artwork_artist = soup.find('h2')\n",
    "  artwork_artist_ref = artwork_artist.find('a').get('href')\n",
    "  return artwork_artist_ref\n",
    "\n",
    "def get_artwork_location(soup):\n",
    "  artwork_location = soup.find_all('a')[27].text\n",
    "  return artwork_location.strip()\n",
    "\n",
    "def get_artwork_date(soup):\n",
    "  artwork_date = soup.find_all('div')[29].text\n",
    "  return artwork_date\n",
    "\n",
    "def get_artwork_canvas_size(soup):\n",
    "  artwork_canvas_size = soup.find_all('div')[30].find_all('div')[1].text\n",
    "  return artwork_canvas_size\n",
    "\n",
    "def get_artwork_canvas_type(soup):\n",
    "  artwork_canvas_type = soup.find_all('div')[30].find_all('div')[0].text.strip()\n",
    "  pattern = r'([^\\d.]+)'\n",
    "  coincidencia = re.search(pattern, artwork_canvas_type)\n",
    "  artwork_canvas_type = coincidencia.group(1).strip()\n",
    "  return artwork_canvas_type"
   ]
  },
  {
   "cell_type": "code",
   "execution_count": null,
   "metadata": {
    "id": "uzpPMW9iG9Ka"
   },
   "outputs": [],
   "source": [
    "page = 0\n",
    "url_list = []\n",
    "\n",
    "while(page <= 50):\n",
    "  indexes = [55, 60, 67, 74, 82, 88, 96, 102, 110, 118, 125, 130, 138, 145, 153, 158, 166, 172, 180, 188, 195]\n",
    "  url_page = f'https://www.museodelprado.es/coleccion/obras-de-arte?ecidoc:p55_has_current_location_exposed=expuesto@es{page}'\n",
    "  request = requests.get(url_page)\n",
    "  html = request.text\n",
    "  soup = BeautifulSoup(html, \"html.parser\")\n",
    "  for i in indexes:\n",
    "    url_list.append(soup.find_all('div')[i].find('a').get('href'))\n",
    "  page += 1"
   ]
  },
  {
   "cell_type": "code",
   "execution_count": null,
   "metadata": {
    "id": "dNavElSp1rFS"
   },
   "outputs": [],
   "source": [
    "page"
   ]
  },
  {
   "cell_type": "code",
   "execution_count": null,
   "metadata": {
    "colab": {
     "base_uri": "https://localhost:8080/",
     "height": 185
    },
    "id": "hx1NJkkQMiO2",
    "outputId": "05684f84-c7d2-43cb-a47c-17eae48bf511"
   },
   "outputs": [
    {
     "ename": "NameError",
     "evalue": "name 'url_list' is not defined",
     "output_type": "error",
     "traceback": [
      "\u001b[0;31m---------------------------------------------------------------------------\u001b[0m",
      "\u001b[0;31mNameError\u001b[0m                                 Traceback (most recent call last)",
      "\u001b[0;32m<ipython-input-12-f78e8ecbf884>\u001b[0m in \u001b[0;36m<cell line: 2>\u001b[0;34m()\u001b[0m\n\u001b[1;32m      2\u001b[0m \u001b[0;32mwith\u001b[0m \u001b[0mopen\u001b[0m\u001b[0;34m(\u001b[0m\u001b[0;34m'artworks_url_list.json'\u001b[0m\u001b[0;34m,\u001b[0m \u001b[0;34m'w'\u001b[0m\u001b[0;34m)\u001b[0m \u001b[0;32mas\u001b[0m \u001b[0marchivo\u001b[0m\u001b[0;34m:\u001b[0m\u001b[0;34m\u001b[0m\u001b[0;34m\u001b[0m\u001b[0m\n\u001b[1;32m      3\u001b[0m     \u001b[0;31m# Convierte la lista a formato JSON y escribe en el archivo\u001b[0m\u001b[0;34m\u001b[0m\u001b[0;34m\u001b[0m\u001b[0m\n\u001b[0;32m----> 4\u001b[0;31m     \u001b[0mjson\u001b[0m\u001b[0;34m.\u001b[0m\u001b[0mdump\u001b[0m\u001b[0;34m(\u001b[0m\u001b[0murl_list\u001b[0m\u001b[0;34m,\u001b[0m \u001b[0marchivo\u001b[0m\u001b[0;34m)\u001b[0m\u001b[0;34m\u001b[0m\u001b[0;34m\u001b[0m\u001b[0m\n\u001b[0m",
      "\u001b[0;31mNameError\u001b[0m: name 'url_list' is not defined"
     ]
    }
   ],
   "source": [
    "import json\n",
    "with open('artworks_url_list.json', 'w') as archivo:\n",
    "    # Convierte la lista a formato JSON y escribe en el archivo\n",
    "    json.dump(url_list, archivo)"
   ]
  },
  {
   "cell_type": "code",
   "execution_count": null,
   "metadata": {
    "colab": {
     "base_uri": "https://localhost:8080/",
     "height": 301
    },
    "id": "qhO1kIVuPhT3",
    "outputId": "c3e475ce-a1b4-45cb-8b19-032ea0888bae"
   },
   "outputs": [
    {
     "ename": "JSONDecodeError",
     "evalue": "Expecting value: line 1 column 1 (char 0)",
     "output_type": "error",
     "traceback": [
      "\u001b[0;31m---------------------------------------------------------------------------\u001b[0m",
      "\u001b[0;31mJSONDecodeError\u001b[0m                           Traceback (most recent call last)",
      "\u001b[0;32m<ipython-input-15-9c58bd3ae5b9>\u001b[0m in \u001b[0;36m<cell line: 1>\u001b[0;34m()\u001b[0m\n\u001b[1;32m      1\u001b[0m \u001b[0;32mwith\u001b[0m \u001b[0mopen\u001b[0m\u001b[0;34m(\u001b[0m\u001b[0;34m'artworks_url_list.json'\u001b[0m\u001b[0;34m,\u001b[0m \u001b[0;34m'r'\u001b[0m\u001b[0;34m)\u001b[0m \u001b[0;32mas\u001b[0m \u001b[0marchivo\u001b[0m\u001b[0;34m:\u001b[0m\u001b[0;34m\u001b[0m\u001b[0;34m\u001b[0m\u001b[0m\n\u001b[0;32m----> 2\u001b[0;31m   \u001b[0murl_list\u001b[0m \u001b[0;34m=\u001b[0m \u001b[0mjson\u001b[0m\u001b[0;34m.\u001b[0m\u001b[0mload\u001b[0m\u001b[0;34m(\u001b[0m\u001b[0marchivo\u001b[0m\u001b[0;34m)\u001b[0m\u001b[0;34m\u001b[0m\u001b[0;34m\u001b[0m\u001b[0m\n\u001b[0m",
      "\u001b[0;32m/usr/lib/python3.10/json/__init__.py\u001b[0m in \u001b[0;36mload\u001b[0;34m(fp, cls, object_hook, parse_float, parse_int, parse_constant, object_pairs_hook, **kw)\u001b[0m\n\u001b[1;32m    291\u001b[0m     \u001b[0mkwarg\u001b[0m\u001b[0;34m;\u001b[0m \u001b[0motherwise\u001b[0m\u001b[0;31m \u001b[0m\u001b[0;31m`\u001b[0m\u001b[0;31m`\u001b[0m\u001b[0mJSONDecoder\u001b[0m\u001b[0;31m`\u001b[0m\u001b[0;31m`\u001b[0m \u001b[0;32mis\u001b[0m \u001b[0mused\u001b[0m\u001b[0;34m.\u001b[0m\u001b[0;34m\u001b[0m\u001b[0;34m\u001b[0m\u001b[0m\n\u001b[1;32m    292\u001b[0m     \"\"\"\n\u001b[0;32m--> 293\u001b[0;31m     return loads(fp.read(),\n\u001b[0m\u001b[1;32m    294\u001b[0m         \u001b[0mcls\u001b[0m\u001b[0;34m=\u001b[0m\u001b[0mcls\u001b[0m\u001b[0;34m,\u001b[0m \u001b[0mobject_hook\u001b[0m\u001b[0;34m=\u001b[0m\u001b[0mobject_hook\u001b[0m\u001b[0;34m,\u001b[0m\u001b[0;34m\u001b[0m\u001b[0;34m\u001b[0m\u001b[0m\n\u001b[1;32m    295\u001b[0m         \u001b[0mparse_float\u001b[0m\u001b[0;34m=\u001b[0m\u001b[0mparse_float\u001b[0m\u001b[0;34m,\u001b[0m \u001b[0mparse_int\u001b[0m\u001b[0;34m=\u001b[0m\u001b[0mparse_int\u001b[0m\u001b[0;34m,\u001b[0m\u001b[0;34m\u001b[0m\u001b[0;34m\u001b[0m\u001b[0m\n",
      "\u001b[0;32m/usr/lib/python3.10/json/__init__.py\u001b[0m in \u001b[0;36mloads\u001b[0;34m(s, cls, object_hook, parse_float, parse_int, parse_constant, object_pairs_hook, **kw)\u001b[0m\n\u001b[1;32m    344\u001b[0m             \u001b[0mparse_int\u001b[0m \u001b[0;32mis\u001b[0m \u001b[0;32mNone\u001b[0m \u001b[0;32mand\u001b[0m \u001b[0mparse_float\u001b[0m \u001b[0;32mis\u001b[0m \u001b[0;32mNone\u001b[0m \u001b[0;32mand\u001b[0m\u001b[0;34m\u001b[0m\u001b[0;34m\u001b[0m\u001b[0m\n\u001b[1;32m    345\u001b[0m             parse_constant is None and object_pairs_hook is None and not kw):\n\u001b[0;32m--> 346\u001b[0;31m         \u001b[0;32mreturn\u001b[0m \u001b[0m_default_decoder\u001b[0m\u001b[0;34m.\u001b[0m\u001b[0mdecode\u001b[0m\u001b[0;34m(\u001b[0m\u001b[0ms\u001b[0m\u001b[0;34m)\u001b[0m\u001b[0;34m\u001b[0m\u001b[0;34m\u001b[0m\u001b[0m\n\u001b[0m\u001b[1;32m    347\u001b[0m     \u001b[0;32mif\u001b[0m \u001b[0mcls\u001b[0m \u001b[0;32mis\u001b[0m \u001b[0;32mNone\u001b[0m\u001b[0;34m:\u001b[0m\u001b[0;34m\u001b[0m\u001b[0;34m\u001b[0m\u001b[0m\n\u001b[1;32m    348\u001b[0m         \u001b[0mcls\u001b[0m \u001b[0;34m=\u001b[0m \u001b[0mJSONDecoder\u001b[0m\u001b[0;34m\u001b[0m\u001b[0;34m\u001b[0m\u001b[0m\n",
      "\u001b[0;32m/usr/lib/python3.10/json/decoder.py\u001b[0m in \u001b[0;36mdecode\u001b[0;34m(self, s, _w)\u001b[0m\n\u001b[1;32m    335\u001b[0m \u001b[0;34m\u001b[0m\u001b[0m\n\u001b[1;32m    336\u001b[0m         \"\"\"\n\u001b[0;32m--> 337\u001b[0;31m         \u001b[0mobj\u001b[0m\u001b[0;34m,\u001b[0m \u001b[0mend\u001b[0m \u001b[0;34m=\u001b[0m \u001b[0mself\u001b[0m\u001b[0;34m.\u001b[0m\u001b[0mraw_decode\u001b[0m\u001b[0;34m(\u001b[0m\u001b[0ms\u001b[0m\u001b[0;34m,\u001b[0m \u001b[0midx\u001b[0m\u001b[0;34m=\u001b[0m\u001b[0m_w\u001b[0m\u001b[0;34m(\u001b[0m\u001b[0ms\u001b[0m\u001b[0;34m,\u001b[0m \u001b[0;36m0\u001b[0m\u001b[0;34m)\u001b[0m\u001b[0;34m.\u001b[0m\u001b[0mend\u001b[0m\u001b[0;34m(\u001b[0m\u001b[0;34m)\u001b[0m\u001b[0;34m)\u001b[0m\u001b[0;34m\u001b[0m\u001b[0;34m\u001b[0m\u001b[0m\n\u001b[0m\u001b[1;32m    338\u001b[0m         \u001b[0mend\u001b[0m \u001b[0;34m=\u001b[0m \u001b[0m_w\u001b[0m\u001b[0;34m(\u001b[0m\u001b[0ms\u001b[0m\u001b[0;34m,\u001b[0m \u001b[0mend\u001b[0m\u001b[0;34m)\u001b[0m\u001b[0;34m.\u001b[0m\u001b[0mend\u001b[0m\u001b[0;34m(\u001b[0m\u001b[0;34m)\u001b[0m\u001b[0;34m\u001b[0m\u001b[0;34m\u001b[0m\u001b[0m\n\u001b[1;32m    339\u001b[0m         \u001b[0;32mif\u001b[0m \u001b[0mend\u001b[0m \u001b[0;34m!=\u001b[0m \u001b[0mlen\u001b[0m\u001b[0;34m(\u001b[0m\u001b[0ms\u001b[0m\u001b[0;34m)\u001b[0m\u001b[0;34m:\u001b[0m\u001b[0;34m\u001b[0m\u001b[0;34m\u001b[0m\u001b[0m\n",
      "\u001b[0;32m/usr/lib/python3.10/json/decoder.py\u001b[0m in \u001b[0;36mraw_decode\u001b[0;34m(self, s, idx)\u001b[0m\n\u001b[1;32m    353\u001b[0m             \u001b[0mobj\u001b[0m\u001b[0;34m,\u001b[0m \u001b[0mend\u001b[0m \u001b[0;34m=\u001b[0m \u001b[0mself\u001b[0m\u001b[0;34m.\u001b[0m\u001b[0mscan_once\u001b[0m\u001b[0;34m(\u001b[0m\u001b[0ms\u001b[0m\u001b[0;34m,\u001b[0m \u001b[0midx\u001b[0m\u001b[0;34m)\u001b[0m\u001b[0;34m\u001b[0m\u001b[0;34m\u001b[0m\u001b[0m\n\u001b[1;32m    354\u001b[0m         \u001b[0;32mexcept\u001b[0m \u001b[0mStopIteration\u001b[0m \u001b[0;32mas\u001b[0m \u001b[0merr\u001b[0m\u001b[0;34m:\u001b[0m\u001b[0;34m\u001b[0m\u001b[0;34m\u001b[0m\u001b[0m\n\u001b[0;32m--> 355\u001b[0;31m             \u001b[0;32mraise\u001b[0m \u001b[0mJSONDecodeError\u001b[0m\u001b[0;34m(\u001b[0m\u001b[0;34m\"Expecting value\"\u001b[0m\u001b[0;34m,\u001b[0m \u001b[0ms\u001b[0m\u001b[0;34m,\u001b[0m \u001b[0merr\u001b[0m\u001b[0;34m.\u001b[0m\u001b[0mvalue\u001b[0m\u001b[0;34m)\u001b[0m \u001b[0;32mfrom\u001b[0m \u001b[0;32mNone\u001b[0m\u001b[0;34m\u001b[0m\u001b[0;34m\u001b[0m\u001b[0m\n\u001b[0m\u001b[1;32m    356\u001b[0m         \u001b[0;32mreturn\u001b[0m \u001b[0mobj\u001b[0m\u001b[0;34m,\u001b[0m \u001b[0mend\u001b[0m\u001b[0;34m\u001b[0m\u001b[0;34m\u001b[0m\u001b[0m\n",
      "\u001b[0;31mJSONDecodeError\u001b[0m: Expecting value: line 1 column 1 (char 0)"
     ]
    }
   ],
   "source": [
    "with open('artworks_url_list.json', 'r') as archivo:\n",
    "  url_list = json.load(archivo)"
   ]
  },
  {
   "cell_type": "code",
   "execution_count": null,
   "metadata": {
    "colab": {
     "base_uri": "https://localhost:8080/",
     "height": 494
    },
    "id": "jRdN-hIWwqeD",
    "outputId": "25f02a99-f64d-457e-f733-e2f88052fd1d"
   },
   "outputs": [
    {
     "data": {
      "application/vnd.google.colaboratory.intrinsic+json": {
       "summary": "{\n  \"name\": \"dataset\",\n  \"rows\": 8,\n  \"fields\": [\n    {\n      \"column\": \"artwork_name_title\",\n      \"properties\": {\n        \"dtype\": \"string\",\n        \"num_unique_values\": 7,\n        \"samples\": [\n          \"La Virgen y el Ni\\u00f1o entronizados con santo Domingo, san Mart\\u00edn y dos \\u00e1ngeles\",\n          \"El Descendimiento\",\n          \"La Crucifixi\\u00f3n con la Virgen, san Juan y \\u00e1ngeles\"\n        ],\n        \"semantic_type\": \"\",\n        \"description\": \"\"\n      }\n    },\n    {\n      \"column\": \"artwork_artist_name\",\n      \"properties\": {\n        \"dtype\": \"string\",\n        \"num_unique_values\": 8,\n        \"samples\": [\n          \"Maestro de Forl\\u00ec\",\n          \"Ugolino di Nerio (Ugolino da Siena)\",\n          \"Maestro de la Magdalena\"\n        ],\n        \"semantic_type\": \"\",\n        \"description\": \"\"\n      }\n    },\n    {\n      \"column\": \"artwork_location\",\n      \"properties\": {\n        \"dtype\": \"category\",\n        \"num_unique_values\": 2,\n        \"samples\": [\n          \"Escuchar\",\n          \"Sala 1\"\n        ],\n        \"semantic_type\": \"\",\n        \"description\": \"\"\n      }\n    },\n    {\n      \"column\": \"artwork_artist_ref\",\n      \"properties\": {\n        \"dtype\": \"string\",\n        \"num_unique_values\": 8,\n        \"samples\": [\n          \"https://www.museothyssen.org/coleccion/artistas/maestro-forli\",\n          \"https://www.museothyssen.org/coleccion/artistas/nerio-ugolino-di\"\n        ],\n        \"semantic_type\": \"\",\n        \"description\": \"\"\n      }\n    },\n    {\n      \"column\": \"artwork_date\",\n      \"properties\": {\n        \"dtype\": \"string\",\n        \"num_unique_values\": 7,\n        \"samples\": [\n          \"hacia 1290\",\n          \"hacia 1300 - 1305\"\n        ],\n        \"semantic_type\": \"\",\n        \"description\": \"\"\n      }\n    },\n    {\n      \"column\": \"artwork_canvas_size\",\n      \"properties\": {\n        \"dtype\": \"string\",\n        \"num_unique_values\": 8,\n        \"samples\": [\n          \"19,7 x 13,3 cm\",\n          \"135 x 89 cm\"\n        ],\n        \"semantic_type\": \"\",\n        \"description\": \"\"\n      }\n    },\n    {\n      \"column\": \"artwork_canvas_type\",\n      \"properties\": {\n        \"dtype\": \"category\",\n        \"num_unique_values\": 2,\n        \"samples\": [\n          \"Temple sobre tabla\",\n          \"Temple y oro sobre tabla\"\n        ],\n        \"semantic_type\": \"\",\n        \"description\": \"\"\n      }\n    }\n  ]\n}",
       "type": "dataframe",
       "variable_name": "dataset"
      },
      "text/html": [
       "\n",
       "  <div id=\"df-dbc4fe35-58da-45a7-9172-f8b5e3530c5d\" class=\"colab-df-container\">\n",
       "    <div>\n",
       "<style scoped>\n",
       "    .dataframe tbody tr th:only-of-type {\n",
       "        vertical-align: middle;\n",
       "    }\n",
       "\n",
       "    .dataframe tbody tr th {\n",
       "        vertical-align: top;\n",
       "    }\n",
       "\n",
       "    .dataframe thead th {\n",
       "        text-align: right;\n",
       "    }\n",
       "</style>\n",
       "<table border=\"1\" class=\"dataframe\">\n",
       "  <thead>\n",
       "    <tr style=\"text-align: right;\">\n",
       "      <th></th>\n",
       "      <th>artwork_name_title</th>\n",
       "      <th>artwork_artist_name</th>\n",
       "      <th>artwork_location</th>\n",
       "      <th>artwork_artist_ref</th>\n",
       "      <th>artwork_date</th>\n",
       "      <th>artwork_canvas_size</th>\n",
       "      <th>artwork_canvas_type</th>\n",
       "    </tr>\n",
       "  </thead>\n",
       "  <tbody>\n",
       "    <tr>\n",
       "      <th>0</th>\n",
       "      <td>La Virgen y el Niño entronizados con santo Dom...</td>\n",
       "      <td>Maestro de la Magdalena</td>\n",
       "      <td>Sala 1</td>\n",
       "      <td>https://www.museothyssen.org/coleccion/artista...</td>\n",
       "      <td>hacia 1290</td>\n",
       "      <td>177 x 86,5 cm</td>\n",
       "      <td>Temple y oro sobre tabla</td>\n",
       "    </tr>\n",
       "    <tr>\n",
       "      <th>1</th>\n",
       "      <td>El Descendimiento</td>\n",
       "      <td>Maestro de Forlì</td>\n",
       "      <td>Escuchar</td>\n",
       "      <td>https://www.museothyssen.org/coleccion/artista...</td>\n",
       "      <td>hacia 1300 - 1305</td>\n",
       "      <td>19,7 x 13,3 cm</td>\n",
       "      <td>Temple sobre tabla</td>\n",
       "    </tr>\n",
       "    <tr>\n",
       "      <th>2</th>\n",
       "      <td>Cristo y la samaritana</td>\n",
       "      <td>Duccio di Buoninsegna</td>\n",
       "      <td>Sala 1</td>\n",
       "      <td>https://www.museothyssen.org/coleccion/artista...</td>\n",
       "      <td>1310 - 1311</td>\n",
       "      <td>43,5 x 46 cm</td>\n",
       "      <td>Temple y oro sobre tabla</td>\n",
       "    </tr>\n",
       "    <tr>\n",
       "      <th>3</th>\n",
       "      <td>La Crucifixión</td>\n",
       "      <td>Maestro de la sala capitular de Pomposa</td>\n",
       "      <td>Sala 1</td>\n",
       "      <td>https://www.museothyssen.org/coleccion/artista...</td>\n",
       "      <td>hacia 1320</td>\n",
       "      <td>29 x 20,5 cm</td>\n",
       "      <td>Temple y oro sobre tabla</td>\n",
       "    </tr>\n",
       "    <tr>\n",
       "      <th>4</th>\n",
       "      <td>La Natividad</td>\n",
       "      <td>Taddeo Gaddi</td>\n",
       "      <td>Escuchar</td>\n",
       "      <td>https://www.museothyssen.org/coleccion/artista...</td>\n",
       "      <td>hacia 1325</td>\n",
       "      <td>41,5 x 41,8 cm</td>\n",
       "      <td>Temple sobre tabla</td>\n",
       "    </tr>\n",
       "    <tr>\n",
       "      <th>5</th>\n",
       "      <td>La Crucifixión con la Virgen, san Juan y ángeles</td>\n",
       "      <td>Ugolino di Nerio (Ugolino da Siena)</td>\n",
       "      <td>Sala 1</td>\n",
       "      <td>https://www.museothyssen.org/coleccion/artista...</td>\n",
       "      <td>hacia 1330 - 1335</td>\n",
       "      <td>135 x 89 cm</td>\n",
       "      <td>Temple y oro sobre tabla</td>\n",
       "    </tr>\n",
       "    <tr>\n",
       "      <th>6</th>\n",
       "      <td>La Crucifixión</td>\n",
       "      <td>Bernardo Daddi</td>\n",
       "      <td>Sala 1</td>\n",
       "      <td>https://www.museothyssen.org/coleccion/artista...</td>\n",
       "      <td>hacia 1330 - 1335</td>\n",
       "      <td>37,4 x 22,2 cm</td>\n",
       "      <td>Temple y oro sobre tabla</td>\n",
       "    </tr>\n",
       "    <tr>\n",
       "      <th>7</th>\n",
       "      <td>La Natividad y otros temas de la infancia de C...</td>\n",
       "      <td>Pietro da  Rimini</td>\n",
       "      <td>Escuchar</td>\n",
       "      <td>https://www.museothyssen.org/coleccion/artista...</td>\n",
       "      <td>hacia 1330</td>\n",
       "      <td>17,2 x 19,7 cm</td>\n",
       "      <td>Temple y oro sobre tabla</td>\n",
       "    </tr>\n",
       "  </tbody>\n",
       "</table>\n",
       "</div>\n",
       "    <div class=\"colab-df-buttons\">\n",
       "\n",
       "  <div class=\"colab-df-container\">\n",
       "    <button class=\"colab-df-convert\" onclick=\"convertToInteractive('df-dbc4fe35-58da-45a7-9172-f8b5e3530c5d')\"\n",
       "            title=\"Convert this dataframe to an interactive table.\"\n",
       "            style=\"display:none;\">\n",
       "\n",
       "  <svg xmlns=\"http://www.w3.org/2000/svg\" height=\"24px\" viewBox=\"0 -960 960 960\">\n",
       "    <path d=\"M120-120v-720h720v720H120Zm60-500h600v-160H180v160Zm220 220h160v-160H400v160Zm0 220h160v-160H400v160ZM180-400h160v-160H180v160Zm440 0h160v-160H620v160ZM180-180h160v-160H180v160Zm440 0h160v-160H620v160Z\"/>\n",
       "  </svg>\n",
       "    </button>\n",
       "\n",
       "  <style>\n",
       "    .colab-df-container {\n",
       "      display:flex;\n",
       "      gap: 12px;\n",
       "    }\n",
       "\n",
       "    .colab-df-convert {\n",
       "      background-color: #E8F0FE;\n",
       "      border: none;\n",
       "      border-radius: 50%;\n",
       "      cursor: pointer;\n",
       "      display: none;\n",
       "      fill: #1967D2;\n",
       "      height: 32px;\n",
       "      padding: 0 0 0 0;\n",
       "      width: 32px;\n",
       "    }\n",
       "\n",
       "    .colab-df-convert:hover {\n",
       "      background-color: #E2EBFA;\n",
       "      box-shadow: 0px 1px 2px rgba(60, 64, 67, 0.3), 0px 1px 3px 1px rgba(60, 64, 67, 0.15);\n",
       "      fill: #174EA6;\n",
       "    }\n",
       "\n",
       "    .colab-df-buttons div {\n",
       "      margin-bottom: 4px;\n",
       "    }\n",
       "\n",
       "    [theme=dark] .colab-df-convert {\n",
       "      background-color: #3B4455;\n",
       "      fill: #D2E3FC;\n",
       "    }\n",
       "\n",
       "    [theme=dark] .colab-df-convert:hover {\n",
       "      background-color: #434B5C;\n",
       "      box-shadow: 0px 1px 3px 1px rgba(0, 0, 0, 0.15);\n",
       "      filter: drop-shadow(0px 1px 2px rgba(0, 0, 0, 0.3));\n",
       "      fill: #FFFFFF;\n",
       "    }\n",
       "  </style>\n",
       "\n",
       "    <script>\n",
       "      const buttonEl =\n",
       "        document.querySelector('#df-dbc4fe35-58da-45a7-9172-f8b5e3530c5d button.colab-df-convert');\n",
       "      buttonEl.style.display =\n",
       "        google.colab.kernel.accessAllowed ? 'block' : 'none';\n",
       "\n",
       "      async function convertToInteractive(key) {\n",
       "        const element = document.querySelector('#df-dbc4fe35-58da-45a7-9172-f8b5e3530c5d');\n",
       "        const dataTable =\n",
       "          await google.colab.kernel.invokeFunction('convertToInteractive',\n",
       "                                                    [key], {});\n",
       "        if (!dataTable) return;\n",
       "\n",
       "        const docLinkHtml = 'Like what you see? Visit the ' +\n",
       "          '<a target=\"_blank\" href=https://colab.research.google.com/notebooks/data_table.ipynb>data table notebook</a>'\n",
       "          + ' to learn more about interactive tables.';\n",
       "        element.innerHTML = '';\n",
       "        dataTable['output_type'] = 'display_data';\n",
       "        await google.colab.output.renderOutput(dataTable, element);\n",
       "        const docLink = document.createElement('div');\n",
       "        docLink.innerHTML = docLinkHtml;\n",
       "        element.appendChild(docLink);\n",
       "      }\n",
       "    </script>\n",
       "  </div>\n",
       "\n",
       "\n",
       "<div id=\"df-d6e824c9-d5df-4c57-aa7e-802c7898f7f4\">\n",
       "  <button class=\"colab-df-quickchart\" onclick=\"quickchart('df-d6e824c9-d5df-4c57-aa7e-802c7898f7f4')\"\n",
       "            title=\"Suggest charts\"\n",
       "            style=\"display:none;\">\n",
       "\n",
       "<svg xmlns=\"http://www.w3.org/2000/svg\" height=\"24px\"viewBox=\"0 0 24 24\"\n",
       "     width=\"24px\">\n",
       "    <g>\n",
       "        <path d=\"M19 3H5c-1.1 0-2 .9-2 2v14c0 1.1.9 2 2 2h14c1.1 0 2-.9 2-2V5c0-1.1-.9-2-2-2zM9 17H7v-7h2v7zm4 0h-2V7h2v10zm4 0h-2v-4h2v4z\"/>\n",
       "    </g>\n",
       "</svg>\n",
       "  </button>\n",
       "\n",
       "<style>\n",
       "  .colab-df-quickchart {\n",
       "      --bg-color: #E8F0FE;\n",
       "      --fill-color: #1967D2;\n",
       "      --hover-bg-color: #E2EBFA;\n",
       "      --hover-fill-color: #174EA6;\n",
       "      --disabled-fill-color: #AAA;\n",
       "      --disabled-bg-color: #DDD;\n",
       "  }\n",
       "\n",
       "  [theme=dark] .colab-df-quickchart {\n",
       "      --bg-color: #3B4455;\n",
       "      --fill-color: #D2E3FC;\n",
       "      --hover-bg-color: #434B5C;\n",
       "      --hover-fill-color: #FFFFFF;\n",
       "      --disabled-bg-color: #3B4455;\n",
       "      --disabled-fill-color: #666;\n",
       "  }\n",
       "\n",
       "  .colab-df-quickchart {\n",
       "    background-color: var(--bg-color);\n",
       "    border: none;\n",
       "    border-radius: 50%;\n",
       "    cursor: pointer;\n",
       "    display: none;\n",
       "    fill: var(--fill-color);\n",
       "    height: 32px;\n",
       "    padding: 0;\n",
       "    width: 32px;\n",
       "  }\n",
       "\n",
       "  .colab-df-quickchart:hover {\n",
       "    background-color: var(--hover-bg-color);\n",
       "    box-shadow: 0 1px 2px rgba(60, 64, 67, 0.3), 0 1px 3px 1px rgba(60, 64, 67, 0.15);\n",
       "    fill: var(--button-hover-fill-color);\n",
       "  }\n",
       "\n",
       "  .colab-df-quickchart-complete:disabled,\n",
       "  .colab-df-quickchart-complete:disabled:hover {\n",
       "    background-color: var(--disabled-bg-color);\n",
       "    fill: var(--disabled-fill-color);\n",
       "    box-shadow: none;\n",
       "  }\n",
       "\n",
       "  .colab-df-spinner {\n",
       "    border: 2px solid var(--fill-color);\n",
       "    border-color: transparent;\n",
       "    border-bottom-color: var(--fill-color);\n",
       "    animation:\n",
       "      spin 1s steps(1) infinite;\n",
       "  }\n",
       "\n",
       "  @keyframes spin {\n",
       "    0% {\n",
       "      border-color: transparent;\n",
       "      border-bottom-color: var(--fill-color);\n",
       "      border-left-color: var(--fill-color);\n",
       "    }\n",
       "    20% {\n",
       "      border-color: transparent;\n",
       "      border-left-color: var(--fill-color);\n",
       "      border-top-color: var(--fill-color);\n",
       "    }\n",
       "    30% {\n",
       "      border-color: transparent;\n",
       "      border-left-color: var(--fill-color);\n",
       "      border-top-color: var(--fill-color);\n",
       "      border-right-color: var(--fill-color);\n",
       "    }\n",
       "    40% {\n",
       "      border-color: transparent;\n",
       "      border-right-color: var(--fill-color);\n",
       "      border-top-color: var(--fill-color);\n",
       "    }\n",
       "    60% {\n",
       "      border-color: transparent;\n",
       "      border-right-color: var(--fill-color);\n",
       "    }\n",
       "    80% {\n",
       "      border-color: transparent;\n",
       "      border-right-color: var(--fill-color);\n",
       "      border-bottom-color: var(--fill-color);\n",
       "    }\n",
       "    90% {\n",
       "      border-color: transparent;\n",
       "      border-bottom-color: var(--fill-color);\n",
       "    }\n",
       "  }\n",
       "</style>\n",
       "\n",
       "  <script>\n",
       "    async function quickchart(key) {\n",
       "      const quickchartButtonEl =\n",
       "        document.querySelector('#' + key + ' button');\n",
       "      quickchartButtonEl.disabled = true;  // To prevent multiple clicks.\n",
       "      quickchartButtonEl.classList.add('colab-df-spinner');\n",
       "      try {\n",
       "        const charts = await google.colab.kernel.invokeFunction(\n",
       "            'suggestCharts', [key], {});\n",
       "      } catch (error) {\n",
       "        console.error('Error during call to suggestCharts:', error);\n",
       "      }\n",
       "      quickchartButtonEl.classList.remove('colab-df-spinner');\n",
       "      quickchartButtonEl.classList.add('colab-df-quickchart-complete');\n",
       "    }\n",
       "    (() => {\n",
       "      let quickchartButtonEl =\n",
       "        document.querySelector('#df-d6e824c9-d5df-4c57-aa7e-802c7898f7f4 button');\n",
       "      quickchartButtonEl.style.display =\n",
       "        google.colab.kernel.accessAllowed ? 'block' : 'none';\n",
       "    })();\n",
       "  </script>\n",
       "</div>\n",
       "    </div>\n",
       "  </div>\n"
      ],
      "text/plain": [
       "                                  artwork_name_title  \\\n",
       "0  La Virgen y el Niño entronizados con santo Dom...   \n",
       "1                                  El Descendimiento   \n",
       "2                             Cristo y la samaritana   \n",
       "3                                     La Crucifixión   \n",
       "4                                       La Natividad   \n",
       "5   La Crucifixión con la Virgen, san Juan y ángeles   \n",
       "6                                     La Crucifixión   \n",
       "7  La Natividad y otros temas de la infancia de C...   \n",
       "\n",
       "                       artwork_artist_name artwork_location  \\\n",
       "0                  Maestro de la Magdalena           Sala 1   \n",
       "1                         Maestro de Forlì         Escuchar   \n",
       "2                    Duccio di Buoninsegna           Sala 1   \n",
       "3  Maestro de la sala capitular de Pomposa           Sala 1   \n",
       "4                             Taddeo Gaddi         Escuchar   \n",
       "5      Ugolino di Nerio (Ugolino da Siena)           Sala 1   \n",
       "6                           Bernardo Daddi           Sala 1   \n",
       "7                        Pietro da  Rimini         Escuchar   \n",
       "\n",
       "                                  artwork_artist_ref       artwork_date  \\\n",
       "0  https://www.museothyssen.org/coleccion/artista...         hacia 1290   \n",
       "1  https://www.museothyssen.org/coleccion/artista...  hacia 1300 - 1305   \n",
       "2  https://www.museothyssen.org/coleccion/artista...        1310 - 1311   \n",
       "3  https://www.museothyssen.org/coleccion/artista...         hacia 1320   \n",
       "4  https://www.museothyssen.org/coleccion/artista...         hacia 1325   \n",
       "5  https://www.museothyssen.org/coleccion/artista...  hacia 1330 - 1335   \n",
       "6  https://www.museothyssen.org/coleccion/artista...  hacia 1330 - 1335   \n",
       "7  https://www.museothyssen.org/coleccion/artista...         hacia 1330   \n",
       "\n",
       "  artwork_canvas_size       artwork_canvas_type  \n",
       "0       177 x 86,5 cm  Temple y oro sobre tabla  \n",
       "1      19,7 x 13,3 cm        Temple sobre tabla  \n",
       "2        43,5 x 46 cm  Temple y oro sobre tabla  \n",
       "3        29 x 20,5 cm  Temple y oro sobre tabla  \n",
       "4      41,5 x 41,8 cm        Temple sobre tabla  \n",
       "5         135 x 89 cm  Temple y oro sobre tabla  \n",
       "6      37,4 x 22,2 cm  Temple y oro sobre tabla  \n",
       "7      17,2 x 19,7 cm  Temple y oro sobre tabla  "
      ]
     },
     "execution_count": 25,
     "metadata": {},
     "output_type": "execute_result"
    }
   ],
   "source": [
    "url_list = [\"https://www.museothyssen.org/coleccion/artistas/maestro-magdalena/virgen-nino-entronizados-santo-domingo-san-martin-dos-angeles\", \"https://www.museothyssen.org/coleccion/artistas/maestro-forli/descendimiento\", \"https://www.museothyssen.org/coleccion/artistas/duccio-di-buoninsegna/cristo-samaritana\", \"https://www.museothyssen.org/coleccion/artistas/maestro-sala-capitular-pomposa/crucifixion\", \"https://www.museothyssen.org/coleccion/artistas/gaddi-taddeo/natividad\", \"https://www.museothyssen.org/coleccion/artistas/nerio-ugolino-di/crucifixion-virgen-san-juan-angeles\", \"https://www.museothyssen.org/coleccion/artistas/daddi-bernardo/crucifixion\", \"https://www.museothyssen.org/coleccion/artistas/rimini-pietro-da/natividad-otros-temas-infancia-cristo\"]\n",
    "\n",
    "artwork_name_title = []\n",
    "artwork_artist_name = []\n",
    "artwork_artist_ref = []\n",
    "artwork_location = []\n",
    "artwork_date = []\n",
    "artwork_canvas_size = []\n",
    "artwork_canvas_type = []\n",
    "\n",
    "failed_urls = []\n",
    "\n",
    "for url in url_list:\n",
    "  request = requests.get(url)\n",
    "  html = request.text\n",
    "  soup = BeautifulSoup(html, \"html.parser\")\n",
    "\n",
    "  artwork_name_title.append(get_artwork_name(soup))\n",
    "  artwork_artist_name.append(get_artwork_artist(soup))\n",
    "  artwork_artist_ref.append(get_artwork_artist_ref(soup))\n",
    "  artwork_location.append(get_artwork_location(soup))\n",
    "  artwork_date.append(get_artwork_date(soup))\n",
    "  artwork_canvas_size.append(get_artwork_canvas_size(soup))\n",
    "  artwork_canvas_type.append(get_artwork_canvas_type(soup))\n",
    "\n",
    "datos = {\n",
    "    'artwork_name_title': artwork_name_title,\n",
    "    'artwork_artist_name': artwork_artist_name,\n",
    "    'artwork_location': artwork_location,\n",
    "    'artwork_artist_ref': artwork_artist_ref,\n",
    "    'artwork_date': artwork_date,\n",
    "    'artwork_canvas_size': artwork_canvas_size,\n",
    "    'artwork_canvas_type': artwork_canvas_type\n",
    "}\n",
    "\n",
    "# Crear DataFrame con Pandas\n",
    "dataset = pd.DataFrame(datos)\n",
    "\n",
    "dataset"
   ]
  },
  {
   "cell_type": "code",
   "execution_count": null,
   "metadata": {
    "colab": {
     "base_uri": "https://localhost:8080/",
     "height": 140
    },
    "id": "VP7ZrEZ58YMb",
    "outputId": "75d2afdb-e787-40d3-d1ea-a5ec33a5c49e"
   },
   "outputs": [
    {
     "data": {
      "application/vnd.google.colaboratory.intrinsic+json": {
       "summary": "{\n  \"name\": \"dataset\",\n  \"rows\": 0,\n  \"fields\": [\n    {\n      \"column\": \"artwork_name_title\",\n      \"properties\": {\n        \"dtype\": \"number\",\n        \"std\": null,\n        \"min\": null,\n        \"max\": null,\n        \"num_unique_values\": 0,\n        \"samples\": [],\n        \"semantic_type\": \"\",\n        \"description\": \"\"\n      }\n    },\n    {\n      \"column\": \"artwork_artist_name\",\n      \"properties\": {\n        \"dtype\": \"number\",\n        \"std\": null,\n        \"min\": null,\n        \"max\": null,\n        \"num_unique_values\": 0,\n        \"samples\": [],\n        \"semantic_type\": \"\",\n        \"description\": \"\"\n      }\n    },\n    {\n      \"column\": \"artwork_location\",\n      \"properties\": {\n        \"dtype\": \"number\",\n        \"std\": null,\n        \"min\": null,\n        \"max\": null,\n        \"num_unique_values\": 0,\n        \"samples\": [],\n        \"semantic_type\": \"\",\n        \"description\": \"\"\n      }\n    },\n    {\n      \"column\": \"artwork_artist_ref\",\n      \"properties\": {\n        \"dtype\": \"number\",\n        \"std\": null,\n        \"min\": null,\n        \"max\": null,\n        \"num_unique_values\": 0,\n        \"samples\": [],\n        \"semantic_type\": \"\",\n        \"description\": \"\"\n      }\n    },\n    {\n      \"column\": \"artwork_date\",\n      \"properties\": {\n        \"dtype\": \"number\",\n        \"std\": null,\n        \"min\": null,\n        \"max\": null,\n        \"num_unique_values\": 0,\n        \"samples\": [],\n        \"semantic_type\": \"\",\n        \"description\": \"\"\n      }\n    },\n    {\n      \"column\": \"artwork_canvas_size\",\n      \"properties\": {\n        \"dtype\": \"number\",\n        \"std\": null,\n        \"min\": null,\n        \"max\": null,\n        \"num_unique_values\": 0,\n        \"samples\": [],\n        \"semantic_type\": \"\",\n        \"description\": \"\"\n      }\n    },\n    {\n      \"column\": \"artwork_canvas_type\",\n      \"properties\": {\n        \"dtype\": \"number\",\n        \"std\": null,\n        \"min\": null,\n        \"max\": null,\n        \"num_unique_values\": 0,\n        \"samples\": [],\n        \"semantic_type\": \"\",\n        \"description\": \"\"\n      }\n    }\n  ]\n}",
       "type": "dataframe",
       "variable_name": "dataset"
      },
      "text/html": [
       "\n",
       "  <div id=\"df-22b95ae9-1f8f-41c9-9ad8-1fe38a77d1dd\" class=\"colab-df-container\">\n",
       "    <div>\n",
       "<style scoped>\n",
       "    .dataframe tbody tr th:only-of-type {\n",
       "        vertical-align: middle;\n",
       "    }\n",
       "\n",
       "    .dataframe tbody tr th {\n",
       "        vertical-align: top;\n",
       "    }\n",
       "\n",
       "    .dataframe thead th {\n",
       "        text-align: right;\n",
       "    }\n",
       "</style>\n",
       "<table border=\"1\" class=\"dataframe\">\n",
       "  <thead>\n",
       "    <tr style=\"text-align: right;\">\n",
       "      <th></th>\n",
       "      <th>artwork_name_title</th>\n",
       "      <th>artwork_artist_name</th>\n",
       "      <th>artwork_location</th>\n",
       "      <th>artwork_artist_ref</th>\n",
       "      <th>artwork_date</th>\n",
       "      <th>artwork_canvas_size</th>\n",
       "      <th>artwork_canvas_type</th>\n",
       "    </tr>\n",
       "  </thead>\n",
       "  <tbody>\n",
       "  </tbody>\n",
       "</table>\n",
       "</div>\n",
       "    <div class=\"colab-df-buttons\">\n",
       "\n",
       "  <div class=\"colab-df-container\">\n",
       "    <button class=\"colab-df-convert\" onclick=\"convertToInteractive('df-22b95ae9-1f8f-41c9-9ad8-1fe38a77d1dd')\"\n",
       "            title=\"Convert this dataframe to an interactive table.\"\n",
       "            style=\"display:none;\">\n",
       "\n",
       "  <svg xmlns=\"http://www.w3.org/2000/svg\" height=\"24px\" viewBox=\"0 -960 960 960\">\n",
       "    <path d=\"M120-120v-720h720v720H120Zm60-500h600v-160H180v160Zm220 220h160v-160H400v160Zm0 220h160v-160H400v160ZM180-400h160v-160H180v160Zm440 0h160v-160H620v160ZM180-180h160v-160H180v160Zm440 0h160v-160H620v160Z\"/>\n",
       "  </svg>\n",
       "    </button>\n",
       "\n",
       "  <style>\n",
       "    .colab-df-container {\n",
       "      display:flex;\n",
       "      gap: 12px;\n",
       "    }\n",
       "\n",
       "    .colab-df-convert {\n",
       "      background-color: #E8F0FE;\n",
       "      border: none;\n",
       "      border-radius: 50%;\n",
       "      cursor: pointer;\n",
       "      display: none;\n",
       "      fill: #1967D2;\n",
       "      height: 32px;\n",
       "      padding: 0 0 0 0;\n",
       "      width: 32px;\n",
       "    }\n",
       "\n",
       "    .colab-df-convert:hover {\n",
       "      background-color: #E2EBFA;\n",
       "      box-shadow: 0px 1px 2px rgba(60, 64, 67, 0.3), 0px 1px 3px 1px rgba(60, 64, 67, 0.15);\n",
       "      fill: #174EA6;\n",
       "    }\n",
       "\n",
       "    .colab-df-buttons div {\n",
       "      margin-bottom: 4px;\n",
       "    }\n",
       "\n",
       "    [theme=dark] .colab-df-convert {\n",
       "      background-color: #3B4455;\n",
       "      fill: #D2E3FC;\n",
       "    }\n",
       "\n",
       "    [theme=dark] .colab-df-convert:hover {\n",
       "      background-color: #434B5C;\n",
       "      box-shadow: 0px 1px 3px 1px rgba(0, 0, 0, 0.15);\n",
       "      filter: drop-shadow(0px 1px 2px rgba(0, 0, 0, 0.3));\n",
       "      fill: #FFFFFF;\n",
       "    }\n",
       "  </style>\n",
       "\n",
       "    <script>\n",
       "      const buttonEl =\n",
       "        document.querySelector('#df-22b95ae9-1f8f-41c9-9ad8-1fe38a77d1dd button.colab-df-convert');\n",
       "      buttonEl.style.display =\n",
       "        google.colab.kernel.accessAllowed ? 'block' : 'none';\n",
       "\n",
       "      async function convertToInteractive(key) {\n",
       "        const element = document.querySelector('#df-22b95ae9-1f8f-41c9-9ad8-1fe38a77d1dd');\n",
       "        const dataTable =\n",
       "          await google.colab.kernel.invokeFunction('convertToInteractive',\n",
       "                                                    [key], {});\n",
       "        if (!dataTable) return;\n",
       "\n",
       "        const docLinkHtml = 'Like what you see? Visit the ' +\n",
       "          '<a target=\"_blank\" href=https://colab.research.google.com/notebooks/data_table.ipynb>data table notebook</a>'\n",
       "          + ' to learn more about interactive tables.';\n",
       "        element.innerHTML = '';\n",
       "        dataTable['output_type'] = 'display_data';\n",
       "        await google.colab.output.renderOutput(dataTable, element);\n",
       "        const docLink = document.createElement('div');\n",
       "        docLink.innerHTML = docLinkHtml;\n",
       "        element.appendChild(docLink);\n",
       "      }\n",
       "    </script>\n",
       "  </div>\n",
       "\n",
       "    </div>\n",
       "  </div>\n"
      ],
      "text/plain": [
       "Empty DataFrame\n",
       "Columns: [artwork_name_title, artwork_artist_name, artwork_location, artwork_artist_ref, artwork_date, artwork_canvas_size, artwork_canvas_type]\n",
       "Index: []"
      ]
     },
     "execution_count": 21,
     "metadata": {},
     "output_type": "execute_result"
    }
   ],
   "source": [
    "dataset"
   ]
  },
  {
   "cell_type": "code",
   "execution_count": null,
   "metadata": {
    "colab": {
     "base_uri": "https://localhost:8080/"
    },
    "id": "gfxTWl2jQG_k",
    "outputId": "6e73e181-f0d2-49ea-fd88-22d95bbbc670"
   },
   "outputs": [
    {
     "data": {
      "text/plain": [
       "[]"
      ]
     },
     "execution_count": 22,
     "metadata": {},
     "output_type": "execute_result"
    }
   ],
   "source": [
    "artwork_name_title"
   ]
  },
  {
   "cell_type": "code",
   "execution_count": null,
   "metadata": {
    "id": "VOpDCclfQRQi"
   },
   "outputs": [],
   "source": []
  }
 ],
 "metadata": {
  "colab": {
   "provenance": []
  },
  "kernelspec": {
   "display_name": "Python 2",
   "language": "python",
   "name": "python2"
  },
  "language_info": {
   "codemirror_mode": {
    "name": "ipython",
    "version": 2
   },
   "file_extension": ".py",
   "mimetype": "text/x-python",
   "name": "python",
   "nbconvert_exporter": "python",
   "pygments_lexer": "ipython2",
   "version": "2.7.16"
  }
 },
 "nbformat": 4,
 "nbformat_minor": 4
}
